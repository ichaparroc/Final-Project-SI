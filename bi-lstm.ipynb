{
 "cells": [
  {
   "cell_type": "markdown",
   "metadata": {},
   "source": [
    "## 1. Reading the database"
   ]
  },
  {
   "cell_type": "code",
   "execution_count": 1,
   "metadata": {},
   "outputs": [],
   "source": [
    "import sys\n",
    "import html\n",
    "import json\n",
    "import numpy as np\n",
    "import pandas as pd\n",
    "import xml.etree.ElementTree as ET\n",
    "import re"
   ]
  },
  {
   "cell_type": "markdown",
   "metadata": {},
   "source": [
    "We transfor the original outputs into an categoritcal target"
   ]
  },
  {
   "cell_type": "code",
   "execution_count": 2,
   "metadata": {},
   "outputs": [
    {
     "name": "stdout",
     "output_type": "stream",
     "text": [
      "{'P': [1, 0, 0, 0], 'N': [0, 1, 0, 0], 'NEU': [0, 0, 1, 0], 'NONE': [0, 0, 0, 1]}\n"
     ]
    }
   ],
   "source": [
    "labels_dict = {}\n",
    "labels_dict['P'] = [1,0,0,0]\n",
    "labels_dict['N'] = [0,1,0,0]\n",
    "labels_dict['NEU'] = [0,0,1,0]\n",
    "labels_dict['NONE'] = [0,0,0,1]\n",
    "print(labels_dict)"
   ]
  },
  {
   "cell_type": "markdown",
   "metadata": {},
   "source": [
    "Next we create 2 functions to read the dataset provided by TASS"
   ]
  },
  {
   "cell_type": "code",
   "execution_count": 3,
   "metadata": {},
   "outputs": [],
   "source": [
    "def read_xml(path):\n",
    "    e = ET.parse(path)\n",
    "    root = e.getroot()\n",
    "    tweets = np.array([tweet.find('content').text for tweet in root.findall('tweet')])\n",
    "    labels_aux = np.array([tweet.find('sentiment').find('polarity').find('value').text for tweet in root.findall('tweet')])\n",
    "    labels = [labels_dict[i] for i in labels_aux]\n",
    "    return tweets,labels\n",
    "def read_xml_test(path):\n",
    "    e = ET.parse(path)\n",
    "    root = e.getroot()\n",
    "    tweets = np.array([tweet.find('content').text for tweet in root.findall('tweet')])\n",
    "    return tweets"
   ]
  },
  {
   "cell_type": "markdown",
   "metadata": {},
   "source": [
    "The test dataset uses another function because is not labeled"
   ]
  },
  {
   "cell_type": "code",
   "execution_count": 4,
   "metadata": {},
   "outputs": [],
   "source": [
    "DATA_PATH='./TASS/TASS2018/'\n",
    "tweets_train,labels_train=read_xml(DATA_PATH+'Training.xml')\n",
    "tweets_valid,labels_valid=read_xml(DATA_PATH+'Development.xml')\n",
    "tweets_test=read_xml_test(DATA_PATH+'Test.xml')"
   ]
  },
  {
   "cell_type": "code",
   "execution_count": 5,
   "metadata": {},
   "outputs": [
    {
     "name": "stdout",
     "output_type": "stream",
     "text": [
      "Size train: 1000 \n",
      "\n",
      "Data train:\n",
      " ['Sin ser fan de Juan Gabriel, siempre supe que era una fuerza de la naturaleza. Hoy escuché \"Querida\", y me dio una ternura enorme.'\n",
      " 'ayer preguntaban y dónde están las solteras!!!! todo mi grupo alza la mano y yo la única que no y todas voltean a verme AJAJAJAJAJJA'] \n",
      "\n",
      "Size valid: 500 \n",
      "\n",
      "Data valid:\n",
      " ['Así te paguen bien... Si es a última hora... No se podrá... Y hoy me tocó servir, no es con pago económico, pero el pago me lo da el Rey'\n",
      " 'Manolo: se llama H&M por Hombre y Mujer. Yo: ..pero.es una marca americana, no tendría sentido. Manolo: callate butch. Yo:'] \n",
      "\n",
      "Size test: 500 \n",
      "\n"
     ]
    }
   ],
   "source": [
    "print(\"Size train:\",len(tweets_train),\"\\n\")\n",
    "print(\"Data train:\\n\",tweets_train[:2],\"\\n\")\n",
    "print(\"Size valid:\",len(tweets_valid),\"\\n\")\n",
    "print(\"Data valid:\\n\",tweets_valid[:2],\"\\n\")\n",
    "print(\"Size test:\",len(tweets_valid),\"\\n\")"
   ]
  },
  {
   "cell_type": "markdown",
   "metadata": {},
   "source": [
    "Applying a shuffle to mix the training data"
   ]
  },
  {
   "cell_type": "code",
   "execution_count": 6,
   "metadata": {},
   "outputs": [
    {
     "name": "stdout",
     "output_type": "stream",
     "text": [
      "1000\n",
      "2928\n",
      "1000\n"
     ]
    }
   ],
   "source": [
    "import random\n",
    "shaffle_ids = random.sample(range(len(tweets_train)), len(tweets_train))\n",
    "tweets=[tweets_train[i] for i in shaffle_ids]+[tw for tw in tweets_valid]+[tw for tw in tweets_test]\n",
    "new_labels_train=[labels_train[i] for i in shaffle_ids]\n",
    "print(len(shaffle_ids))\n",
    "print(len(tweets))\n",
    "print(len(new_labels_train))"
   ]
  },
  {
   "cell_type": "markdown",
   "metadata": {},
   "source": [
    "## 3. Generating the embedding"
   ]
  },
  {
   "cell_type": "markdown",
   "metadata": {},
   "source": [
    "### 3.1. Loading a word2vec model"
   ]
  },
  {
   "cell_type": "markdown",
   "metadata": {},
   "source": [
    "We have used a pre-trained word2vec model in order to analize the results."
   ]
  },
  {
   "cell_type": "code",
   "execution_count": 7,
   "metadata": {},
   "outputs": [],
   "source": [
    "from gensim.models import KeyedVectors\n",
    "import gensim.models.word2vec\n",
    "\n",
    "w2v =  gensim.models.KeyedVectors.load_word2vec_format(\"./word2vec.bin\", binary=True)\n",
    "vocab = w2v.index2word\n"
   ]
  },
  {
   "cell_type": "markdown",
   "metadata": {},
   "source": [
    "### 3.2. Tweets to sequences"
   ]
  },
  {
   "cell_type": "code",
   "execution_count": 8,
   "metadata": {},
   "outputs": [
    {
     "name": "stderr",
     "output_type": "stream",
     "text": [
      "/home/alvaro/anaconda3/lib/python3.6/site-packages/h5py/__init__.py:36: FutureWarning: Conversion of the second argument of issubdtype from `float` to `np.floating` is deprecated. In future, it will be treated as `np.float64 == np.dtype(float).type`.\n",
      "  from ._conv import register_converters as _register_converters\n",
      "Using TensorFlow backend.\n"
     ]
    },
    {
     "data": {
      "text/plain": [
       "9984"
      ]
     },
     "execution_count": 8,
     "metadata": {},
     "output_type": "execute_result"
    }
   ],
   "source": [
    "from keras.preprocessing.text import Tokenizer\n",
    "from sklearn.feature_extraction.text import CountVectorizer\n",
    "counter = CountVectorizer(tokenizer=Tokenizer)\n",
    "tokenizer  = Tokenizer()\n",
    "tokenizer.fit_on_texts(tweets)\n",
    "#seq = tokenizer.texts_to_sequences(tweets)\n",
    "reverse_word_map = dict(map(reversed, tokenizer.word_index.items()))\n",
    "len(reverse_word_map)"
   ]
  },
  {
   "cell_type": "markdown",
   "metadata": {},
   "source": [
    "After recognize the number of words in the dataset we proced to extract their features in the worrd2vec model, creating the embbeding_matrix"
   ]
  },
  {
   "cell_type": "code",
   "execution_count": 9,
   "metadata": {},
   "outputs": [
    {
     "name": "stdout",
     "output_type": "stream",
     "text": [
      "2000 :  1835 :  pasaron\n",
      "4000 :  3371 :  bandas\n",
      "5000 :  4021 :  alcanzaba\n",
      "7000 :  5373 :  deuda\n",
      "9000 :  6710 :  azulado\n",
      "7272\n",
      "(7272, 300)\n"
     ]
    }
   ],
   "source": [
    "embedding_matrix = []\n",
    "dict2={}\n",
    "idx=0\n",
    "for i in range(len(reverse_word_map)):\n",
    "    w=reverse_word_map.get(i)\n",
    "    if w in vocab:\n",
    "        embedding_matrix.append(w2v[w])\n",
    "        dict2[w]=idx\n",
    "        if i%1000==0:\n",
    "            print(i,\": \",idx,\": \",w)\n",
    "        idx+=1\n",
    "print(idx)\n",
    "embedding_matrix=np.asarray(embedding_matrix)\n",
    "print(embedding_matrix.shape)"
   ]
  },
  {
   "cell_type": "markdown",
   "metadata": {},
   "source": [
    "Now we update de tokenizer with new values using only the word presents in the loaded word2vec model"
   ]
  },
  {
   "cell_type": "code",
   "execution_count": 10,
   "metadata": {},
   "outputs": [],
   "source": [
    "X=[]\n",
    "idx=0\n",
    "for tw in tweets:\n",
    "    idx+=1\n",
    "    Xr=[]\n",
    "    for w in tw.split():\n",
    "        if w in dict2:\n",
    "            Xr.append(dict2[w])\n",
    "    X.append(Xr)"
   ]
  },
  {
   "cell_type": "markdown",
   "metadata": {},
   "source": [
    "Once processed we split again the dataset in train, validation and test"
   ]
  },
  {
   "cell_type": "code",
   "execution_count": 11,
   "metadata": {},
   "outputs": [
    {
     "name": "stdout",
     "output_type": "stream",
     "text": [
      "(1000, 30)\n",
      "(500, 30)\n",
      "(1428, 30)\n",
      "(1000, 4)\n",
      "(500, 4)\n"
     ]
    }
   ],
   "source": [
    "from keras.preprocessing.sequence import pad_sequences\n",
    "maxl=30\n",
    "x_train = pad_sequences(X[:len(tweets_train)], maxlen=maxl)\n",
    "x_valid   = pad_sequences(X[len(tweets_train):-len(tweets_test)], maxlen=maxl)\n",
    "x_test   = pad_sequences(X[-len(tweets_test):], maxlen=maxl)\n",
    "y_train=np.asarray(new_labels_train)\n",
    "y_valid=np.asarray(labels_valid)\n",
    "print(x_train.shape)\n",
    "print(x_valid.shape)\n",
    "print(x_test.shape)\n",
    "print(y_train.shape)\n",
    "print(y_valid.shape)"
   ]
  },
  {
   "cell_type": "markdown",
   "metadata": {},
   "source": [
    "## 3. Defining the architecture"
   ]
  },
  {
   "cell_type": "markdown",
   "metadata": {},
   "source": [
    "We add some configurations in order to get compiling"
   ]
  },
  {
   "cell_type": "code",
   "execution_count": 12,
   "metadata": {},
   "outputs": [],
   "source": [
    "import tensorflow as tf\n",
    "from keras import backend as K\n",
    "config = tf.ConfigProto(intra_op_parallelism_threads=4, allow_soft_placement=True, device_count = {'CPU' : 1, 'GPU' : 0})\n",
    "sess = tf.Session(config=config)\n",
    "K.set_session(sess)"
   ]
  },
  {
   "cell_type": "code",
   "execution_count": 13,
   "metadata": {},
   "outputs": [
    {
     "name": "stdout",
     "output_type": "stream",
     "text": [
      "_________________________________________________________________\n",
      "Layer (type)                 Output Shape              Param #   \n",
      "=================================================================\n",
      "input_1 (InputLayer)         (None, 30)                0         \n",
      "_________________________________________________________________\n",
      "embedding_1 (Embedding)      (None, 30, 300)           2181600   \n",
      "_________________________________________________________________\n",
      "lstm_1 (LSTM)                (None, 30, 16)            20288     \n",
      "_________________________________________________________________\n",
      "dropout_1 (Dropout)          (None, 30, 16)            0         \n",
      "_________________________________________________________________\n",
      "lstm_2 (LSTM)                (None, 16)                2112      \n",
      "_________________________________________________________________\n",
      "dropout_2 (Dropout)          (None, 16)                0         \n",
      "_________________________________________________________________\n",
      "dense_1 (Dense)              (None, 4)                 68        \n",
      "=================================================================\n",
      "Total params: 2,204,068\n",
      "Trainable params: 22,468\n",
      "Non-trainable params: 2,181,600\n",
      "_________________________________________________________________\n",
      "None\n"
     ]
    }
   ],
   "source": [
    "from keras.models import Sequential\n",
    "from keras.layers import Dense, Dropout\n",
    "from keras.layers import Flatten\n",
    "from keras.layers.embeddings import Embedding\n",
    "\n",
    "from keras.layers import Input, Dense, concatenate, Activation\n",
    "from keras.models import Model\n",
    "from keras.layers import Conv1D, GlobalMaxPooling1D\n",
    "from keras.layers import Dense, Embedding, LSTM,TimeDistributed,Dropout,Bidirectional,GRU\n",
    "\n",
    "lstm_out=16\n",
    "VOCAB_SIZE=len(dict2)\n",
    "input_layer = Input(shape=(maxl,), dtype='int32')\n",
    "\n",
    "network   = Embedding(VOCAB_SIZE, 300, weights=[embedding_matrix], input_length=30, trainable=False)(input_layer)\n",
    "network=LSTM(lstm_out, return_sequences=True)(network)\n",
    "network=Dropout(0.5)(network)\n",
    "network=LSTM(lstm_out)(network)\n",
    "network=Dropout(0.5)(network)\n",
    "network=Dense(4, activation='softmax')(network)\n",
    "model = Model(inputs=[tweet_input], outputs=[network])\n",
    "model.compile(loss='categorical_crossentropy', optimizer='rmsprop', metrics=['accuracy'])\n",
    "\n",
    "\n",
    "print(model.summary())"
   ]
  },
  {
   "cell_type": "markdown",
   "metadata": {},
   "source": [
    "## 4. Training"
   ]
  },
  {
   "cell_type": "code",
   "execution_count": 14,
   "metadata": {},
   "outputs": [],
   "source": [
    "import numpy as np\n",
    "from sklearn.utils.class_weight import compute_class_weight\n",
    "\n",
    "y_integers = np.argmax(y_train, axis=1)\n",
    "class_weights = compute_class_weight('balanced', np.unique(y_integers), y_integers)\n",
    "d_class_weights = dict(enumerate(class_weights))"
   ]
  },
  {
   "cell_type": "code",
   "execution_count": 15,
   "metadata": {},
   "outputs": [
    {
     "name": "stdout",
     "output_type": "stream",
     "text": [
      "Train on 1000 samples, validate on 500 samples\n",
      "Epoch 1/50\n",
      "1000/1000 [==============================] - 2s 2ms/step - loss: 1.3710 - acc: 0.3300 - val_loss: 1.3146 - val_acc: 0.4760\n",
      "Epoch 2/50\n",
      "1000/1000 [==============================] - 1s 963us/step - loss: 1.3575 - acc: 0.3270 - val_loss: 1.3152 - val_acc: 0.4760\n",
      "Epoch 3/50\n",
      "1000/1000 [==============================] - 1s 960us/step - loss: 1.3505 - acc: 0.3610 - val_loss: 1.2923 - val_acc: 0.4760\n",
      "Epoch 4/50\n",
      "1000/1000 [==============================] - 1s 955us/step - loss: 1.3441 - acc: 0.3600 - val_loss: 1.3106 - val_acc: 0.4880\n",
      "Epoch 5/50\n",
      "1000/1000 [==============================] - 1s 966us/step - loss: 1.3406 - acc: 0.3760 - val_loss: 1.2837 - val_acc: 0.4700\n",
      "Epoch 6/50\n",
      "1000/1000 [==============================] - 1s 970us/step - loss: 1.3185 - acc: 0.3770 - val_loss: 1.2446 - val_acc: 0.4880\n",
      "Epoch 7/50\n",
      "1000/1000 [==============================] - 1s 965us/step - loss: 1.3118 - acc: 0.3940 - val_loss: 1.3234 - val_acc: 0.3160\n",
      "Epoch 8/50\n",
      "1000/1000 [==============================] - 1s 950us/step - loss: 1.2850 - acc: 0.3960 - val_loss: 1.2724 - val_acc: 0.4540\n",
      "Epoch 9/50\n",
      "1000/1000 [==============================] - 1s 951us/step - loss: 1.2592 - acc: 0.4250 - val_loss: 1.2143 - val_acc: 0.4940\n",
      "Epoch 10/50\n",
      "1000/1000 [==============================] - 1s 957us/step - loss: 1.2553 - acc: 0.4430 - val_loss: 1.3907 - val_acc: 0.2960\n",
      "Epoch 11/50\n",
      "1000/1000 [==============================] - 1s 942us/step - loss: 1.2334 - acc: 0.4410 - val_loss: 1.2125 - val_acc: 0.4900\n",
      "Epoch 12/50\n",
      "1000/1000 [==============================] - 1s 960us/step - loss: 1.2273 - acc: 0.4370 - val_loss: 1.2135 - val_acc: 0.4940\n",
      "Epoch 13/50\n",
      "1000/1000 [==============================] - 1s 963us/step - loss: 1.2262 - acc: 0.4530 - val_loss: 1.2049 - val_acc: 0.5040\n",
      "Epoch 14/50\n",
      "1000/1000 [==============================] - 1s 948us/step - loss: 1.2055 - acc: 0.4650 - val_loss: 1.2193 - val_acc: 0.4760\n",
      "Epoch 15/50\n",
      "1000/1000 [==============================] - 1s 948us/step - loss: 1.2112 - acc: 0.4670 - val_loss: 1.2979 - val_acc: 0.3980\n",
      "Epoch 16/50\n",
      "1000/1000 [==============================] - 1s 958us/step - loss: 1.1850 - acc: 0.4840 - val_loss: 1.3172 - val_acc: 0.3280\n",
      "Epoch 17/50\n",
      "1000/1000 [==============================] - 1s 991us/step - loss: 1.1667 - acc: 0.4910 - val_loss: 1.3124 - val_acc: 0.4300\n",
      "Epoch 18/50\n",
      "1000/1000 [==============================] - 1s 982us/step - loss: 1.1663 - acc: 0.5010 - val_loss: 1.2175 - val_acc: 0.4940\n",
      "Epoch 19/50\n",
      "1000/1000 [==============================] - 1s 989us/step - loss: 1.1286 - acc: 0.5230 - val_loss: 1.2608 - val_acc: 0.4360\n",
      "Epoch 20/50\n",
      "1000/1000 [==============================] - 1s 958us/step - loss: 1.1337 - acc: 0.5180 - val_loss: 1.2992 - val_acc: 0.4420\n",
      "Epoch 21/50\n",
      "1000/1000 [==============================] - 1s 978us/step - loss: 1.1034 - acc: 0.5320 - val_loss: 1.2213 - val_acc: 0.4680\n",
      "Epoch 22/50\n",
      "1000/1000 [==============================] - 1s 978us/step - loss: 1.0934 - acc: 0.5360 - val_loss: 1.4179 - val_acc: 0.3380\n",
      "Epoch 23/50\n",
      "1000/1000 [==============================] - 1s 964us/step - loss: 1.0775 - acc: 0.5510 - val_loss: 1.3133 - val_acc: 0.4280\n",
      "Epoch 24/50\n",
      "1000/1000 [==============================] - 1s 1ms/step - loss: 1.0739 - acc: 0.5370 - val_loss: 1.2180 - val_acc: 0.4800\n",
      "Epoch 25/50\n",
      "1000/1000 [==============================] - 1s 995us/step - loss: 1.0702 - acc: 0.5550 - val_loss: 1.2792 - val_acc: 0.4440\n",
      "Epoch 26/50\n",
      "1000/1000 [==============================] - 1s 1ms/step - loss: 1.0410 - acc: 0.5720 - val_loss: 1.2041 - val_acc: 0.5220\n",
      "Epoch 27/50\n",
      "1000/1000 [==============================] - 1s 981us/step - loss: 1.0646 - acc: 0.5600 - val_loss: 1.2278 - val_acc: 0.4980\n",
      "Epoch 28/50\n",
      "1000/1000 [==============================] - 1s 987us/step - loss: 1.0105 - acc: 0.5860 - val_loss: 1.4698 - val_acc: 0.4100\n",
      "Epoch 29/50\n",
      "1000/1000 [==============================] - 1s 961us/step - loss: 1.0176 - acc: 0.5870 - val_loss: 1.3608 - val_acc: 0.4460\n",
      "Epoch 30/50\n",
      "1000/1000 [==============================] - 1s 990us/step - loss: 0.9969 - acc: 0.6060 - val_loss: 1.3585 - val_acc: 0.4360\n",
      "Epoch 31/50\n",
      "1000/1000 [==============================] - 1s 1ms/step - loss: 0.9724 - acc: 0.6130 - val_loss: 1.2516 - val_acc: 0.4960\n",
      "Epoch 32/50\n",
      "1000/1000 [==============================] - 1s 986us/step - loss: 0.9663 - acc: 0.6090 - val_loss: 1.2689 - val_acc: 0.5040\n",
      "Epoch 33/50\n",
      "1000/1000 [==============================] - 1s 1ms/step - loss: 0.9619 - acc: 0.6150 - val_loss: 1.3808 - val_acc: 0.4840\n",
      "Epoch 34/50\n",
      "1000/1000 [==============================] - 1s 991us/step - loss: 0.9406 - acc: 0.6260 - val_loss: 1.4137 - val_acc: 0.3740\n",
      "Epoch 35/50\n",
      "1000/1000 [==============================] - 1s 1ms/step - loss: 0.9169 - acc: 0.6260 - val_loss: 1.3600 - val_acc: 0.4080\n",
      "Epoch 36/50\n",
      "1000/1000 [==============================] - 1s 1ms/step - loss: 0.9203 - acc: 0.6230 - val_loss: 1.3133 - val_acc: 0.4740\n",
      "Epoch 37/50\n",
      "1000/1000 [==============================] - 1s 1ms/step - loss: 0.8955 - acc: 0.6310 - val_loss: 1.3154 - val_acc: 0.4460\n",
      "Epoch 38/50\n",
      "1000/1000 [==============================] - 1s 993us/step - loss: 0.8912 - acc: 0.6400 - val_loss: 1.5076 - val_acc: 0.4080\n",
      "Epoch 39/50\n",
      "1000/1000 [==============================] - 1s 1ms/step - loss: 0.9006 - acc: 0.6360 - val_loss: 1.4121 - val_acc: 0.4160\n",
      "Epoch 40/50\n",
      "1000/1000 [==============================] - 1s 992us/step - loss: 0.8428 - acc: 0.6650 - val_loss: 1.4573 - val_acc: 0.4620\n",
      "Epoch 41/50\n",
      "1000/1000 [==============================] - 1s 985us/step - loss: 0.8389 - acc: 0.6580 - val_loss: 1.6099 - val_acc: 0.3980\n",
      "Epoch 42/50\n",
      "1000/1000 [==============================] - 1s 1ms/step - loss: 0.8479 - acc: 0.6590 - val_loss: 1.4633 - val_acc: 0.4620\n",
      "Epoch 43/50\n",
      "1000/1000 [==============================] - 1s 997us/step - loss: 0.8223 - acc: 0.6810 - val_loss: 1.4761 - val_acc: 0.5080\n",
      "Epoch 44/50\n",
      "1000/1000 [==============================] - 1s 987us/step - loss: 0.7968 - acc: 0.6930 - val_loss: 1.4601 - val_acc: 0.4360\n",
      "Epoch 45/50\n",
      "1000/1000 [==============================] - 1s 976us/step - loss: 0.7981 - acc: 0.6950 - val_loss: 1.5905 - val_acc: 0.4500\n",
      "Epoch 46/50\n",
      "1000/1000 [==============================] - 1s 1ms/step - loss: 0.8000 - acc: 0.6720 - val_loss: 1.4120 - val_acc: 0.4620\n",
      "Epoch 47/50\n",
      "1000/1000 [==============================] - 1s 985us/step - loss: 0.7615 - acc: 0.6980 - val_loss: 1.6438 - val_acc: 0.4640\n",
      "Epoch 48/50\n",
      "1000/1000 [==============================] - 1s 1ms/step - loss: 0.7695 - acc: 0.6920 - val_loss: 1.5999 - val_acc: 0.4060\n",
      "Epoch 49/50\n",
      "1000/1000 [==============================] - 1s 1ms/step - loss: 0.7618 - acc: 0.6950 - val_loss: 1.5190 - val_acc: 0.3900\n",
      "Epoch 50/50\n",
      "1000/1000 [==============================] - 1s 999us/step - loss: 0.7085 - acc: 0.7220 - val_loss: 1.6214 - val_acc: 0.4540\n"
     ]
    },
    {
     "data": {
      "text/plain": [
       "<keras.callbacks.History at 0x7fecfe367828>"
      ]
     },
     "execution_count": 15,
     "metadata": {},
     "output_type": "execute_result"
    }
   ],
   "source": [
    "model.fit(x_train,y_train, epochs=50,validation_data=(x_valid, y_valid))\n",
    "#model.fit(x_train,y_train, epochs=50,validation_data=(x_valid, y_valid),class_weight=d_class_weights)"
   ]
  },
  {
   "cell_type": "code",
   "execution_count": 16,
   "metadata": {},
   "outputs": [],
   "source": [
    "result2 = model.predict(x_valid,batch_size=1,verbose = 2)"
   ]
  },
  {
   "cell_type": "code",
   "execution_count": 17,
   "metadata": {},
   "outputs": [
    {
     "name": "stdout",
     "output_type": "stream",
     "text": [
      "[[0.01032623 0.90967005 0.01236943 0.06763427]\n",
      " [0.01412319 0.05688623 0.18665737 0.7423333 ]\n",
      " [0.22834596 0.03581598 0.0973129  0.6385252 ]\n",
      " [0.00376674 0.04132044 0.09123153 0.86368126]\n",
      " [0.00591933 0.36781576 0.00940099 0.6168639 ]]\n"
     ]
    }
   ],
   "source": [
    "print(result2[:5])"
   ]
  },
  {
   "cell_type": "code",
   "execution_count": 18,
   "metadata": {},
   "outputs": [
    {
     "name": "stdout",
     "output_type": "stream",
     "text": [
      "[1 3 3 3 3 2 0 1 0 3]\n"
     ]
    }
   ],
   "source": [
    "result3=np.argmax(result2,axis=1)\n",
    "print(result3[:10])"
   ]
  },
  {
   "cell_type": "code",
   "execution_count": 19,
   "metadata": {},
   "outputs": [
    {
     "name": "stdout",
     "output_type": "stream",
     "text": [
      "[1 3 1 3 3 3 1 2 3 3]\n"
     ]
    }
   ],
   "source": [
    "Y_target=np.argmax(y_valid,axis=1)\n",
    "print(Y_target[:10])"
   ]
  },
  {
   "cell_type": "code",
   "execution_count": 20,
   "metadata": {},
   "outputs": [
    {
     "name": "stdout",
     "output_type": "stream",
     "text": [
      "[[ 50   5   4  36]\n",
      " [ 22  26   9  49]\n",
      " [ 13  10   4  34]\n",
      " [ 47  28  16 147]]\n"
     ]
    }
   ],
   "source": [
    "from sklearn.metrics import confusion_matrix,f1_score\n",
    "Result=confusion_matrix(Y_target, result3)\n",
    "print(Result)"
   ]
  },
  {
   "cell_type": "code",
   "execution_count": 21,
   "metadata": {},
   "outputs": [
    {
     "name": "stdout",
     "output_type": "stream",
     "text": [
      "Precision 0:  0.5263157894736842\n",
      "Precision 1:  0.24528301886792453\n",
      "Precision 2:  0.06557377049180328\n",
      "Precision 3:  0.6176470588235294\n",
      "General precision:  0.454\n",
      "F1_score:  0.3515278019540369\n"
     ]
    }
   ],
   "source": [
    "print(\"Precision 0: \",Result[0,0]/(Result[0,0]+Result[0,1]+Result[0,2]+Result[0,3]))\n",
    "print(\"Precision 1: \",Result[1,1]/(Result[1,0]+Result[1,1]+Result[1,2]+Result[1,3]))\n",
    "print(\"Precision 2: \",Result[2,2]/(Result[2,0]+Result[2,1]+Result[2,2]+Result[2,3]))\n",
    "print(\"Precision 3: \",Result[3,3]/(Result[3,0]+Result[3,1]+Result[3,2]+Result[3,3]))\n",
    "print(\"General precision: \",np.trace(Result)/np.sum(Result))\n",
    "print(\"F1_score: \",f1_score(Y_target, result3, average='macro'))"
   ]
  },
  {
   "cell_type": "code",
   "execution_count": 22,
   "metadata": {},
   "outputs": [],
   "source": [
    "result2 = model.predict(x_test,batch_size=1,verbose = 2)\n",
    "result3=np.argmax(result2,axis=1)"
   ]
  },
  {
   "cell_type": "code",
   "execution_count": 23,
   "metadata": {},
   "outputs": [],
   "source": [
    "import xml.etree.ElementTree as ET\n",
    "\n",
    "file = open(\"test_label.txt\",\"w\") \n",
    "e = ET.parse(DATA_PATH+'Test.xml')\n",
    "root = e.getroot()\n",
    "ID = np.array([tweet.find('tweetid').text for tweet in root.findall('tweet')])\n",
    "idx=0\n",
    "for i in ID:\n",
    "    label=result3[idx]\n",
    "    if label == 0:\n",
    "        file.write(i + \"\\t\" + \"P\" + \"\\n\")\n",
    "    elif label == 1:\n",
    "        file.write(i + \"\\t\" + \"N\" + \"\\n\")\n",
    "    elif label == 2:\n",
    "        file.write(i + \"\\t\" + \"NEU\" + \"\\n\")\n",
    "    elif label == 3:\n",
    "        file.write(i + \"\\t\" + \"NONE\" + \"\\n\")\n",
    "    \n",
    "    idx+=1\n",
    "file.close()\n"
   ]
  },
  {
   "cell_type": "code",
   "execution_count": 24,
   "metadata": {},
   "outputs": [
    {
     "data": {
      "text/plain": [
       "(1428, 30)"
      ]
     },
     "execution_count": 24,
     "metadata": {},
     "output_type": "execute_result"
    }
   ],
   "source": [
    "x_test.shape"
   ]
  },
  {
   "cell_type": "code",
   "execution_count": null,
   "metadata": {},
   "outputs": [],
   "source": []
  }
 ],
 "metadata": {
  "kernelspec": {
   "display_name": "Python 3",
   "language": "python",
   "name": "python3"
  },
  "language_info": {
   "codemirror_mode": {
    "name": "ipython",
    "version": 3
   },
   "file_extension": ".py",
   "mimetype": "text/x-python",
   "name": "python",
   "nbconvert_exporter": "python",
   "pygments_lexer": "ipython3",
   "version": "3.6.8"
  }
 },
 "nbformat": 4,
 "nbformat_minor": 2
}

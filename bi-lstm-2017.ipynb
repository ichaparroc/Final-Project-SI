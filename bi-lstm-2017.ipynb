{
 "cells": [
  {
   "cell_type": "markdown",
   "metadata": {},
   "source": [
    "## 1. Reading the database"
   ]
  },
  {
   "cell_type": "code",
   "execution_count": 1,
   "metadata": {},
   "outputs": [],
   "source": [
    "import sys\n",
    "import html\n",
    "import json\n",
    "import numpy as np\n",
    "import pandas as pd\n",
    "import xml.etree.ElementTree as ET\n",
    "import re"
   ]
  },
  {
   "cell_type": "markdown",
   "metadata": {},
   "source": [
    "We transfor the original outputs into an categoritcal target"
   ]
  },
  {
   "cell_type": "code",
   "execution_count": 2,
   "metadata": {},
   "outputs": [
    {
     "name": "stdout",
     "output_type": "stream",
     "text": [
      "{'P': [1, 0, 0, 0], 'N': [0, 1, 0, 0], 'NEU': [0, 0, 1, 0], 'NONE': [0, 0, 0, 1]}\n"
     ]
    }
   ],
   "source": [
    "labels_dict = {}\n",
    "labels_dict['P'] = [1,0,0,0]\n",
    "labels_dict['N'] = [0,1,0,0]\n",
    "labels_dict['NEU'] = [0,0,1,0]\n",
    "labels_dict['NONE'] = [0,0,0,1]\n",
    "print(labels_dict)"
   ]
  },
  {
   "cell_type": "markdown",
   "metadata": {},
   "source": [
    "Next we create 2 functions to read the dataset provided by TASS"
   ]
  },
  {
   "cell_type": "code",
   "execution_count": 3,
   "metadata": {},
   "outputs": [],
   "source": [
    "def read_xml(path):\n",
    "    e = ET.parse(path)\n",
    "    root = e.getroot()\n",
    "    tweets = np.array([tweet.find('content').text for tweet in root.findall('tweet')])\n",
    "    labels_aux = np.array([tweet.find('sentiment').find('polarity').find('value').text for tweet in root.findall('tweet')])\n",
    "    labels = [labels_dict[i] for i in labels_aux]\n",
    "    return tweets,labels\n",
    "def read_xml_test(path):\n",
    "    e = ET.parse(path)\n",
    "    root = e.getroot()\n",
    "    tweets = np.array([tweet.find('content').text for tweet in root.findall('tweet')])\n",
    "    return tweets"
   ]
  },
  {
   "cell_type": "markdown",
   "metadata": {},
   "source": [
    "The test dataset uses another function because is not labeled"
   ]
  },
  {
   "cell_type": "code",
   "execution_count": 4,
   "metadata": {},
   "outputs": [],
   "source": [
    "DATA_PATH='./TASS/TASS2017/'\n",
    "tweets_train,labels_train=read_xml(DATA_PATH+'Training.xml')\n",
    "tweets_valid,labels_valid=read_xml(DATA_PATH+'Development.xml')\n",
    "tweets_test=read_xml_test(DATA_PATH+'Test.xml')"
   ]
  },
  {
   "cell_type": "code",
   "execution_count": 5,
   "metadata": {},
   "outputs": [
    {
     "name": "stdout",
     "output_type": "stream",
     "text": [
      "Size train: 1008 \n",
      "\n",
      "Data train:\n",
      " ['-Me caes muy bien \\n-Tienes que jugar más partidas al lol con Russel y conmigo\\n-Por qué tan Otako, deja de ser otako\\n-Haber si me muero'\n",
      " '@myendlesshazza a. que puto mal escribo\\n\\nb. me sigo surrando help \\n\\n3. ha quedado raro el \"cómetelo\" ahí JAJAJAJA'] \n",
      "\n",
      "Size valid: 506 \n",
      "\n",
      "Data valid:\n",
      " ['@noseashetero 1000/10 de verdad a ti que voy a decir petarda que te quiero más que a mí mismo  ✨'\n",
      " '@piscolabisaereo @HistoriaNG @SPosteguillo las tengo pero aún no las he leído. Caerán prontito '] \n",
      "\n",
      "Size test: 506 \n",
      "\n"
     ]
    }
   ],
   "source": [
    "print(\"Size train:\",len(tweets_train),\"\\n\")\n",
    "print(\"Data train:\\n\",tweets_train[:2],\"\\n\")\n",
    "print(\"Size valid:\",len(tweets_valid),\"\\n\")\n",
    "print(\"Data valid:\\n\",tweets_valid[:2],\"\\n\")\n",
    "print(\"Size test:\",len(tweets_valid),\"\\n\")"
   ]
  },
  {
   "cell_type": "markdown",
   "metadata": {},
   "source": [
    "Applying a shuffle to mix the training data"
   ]
  },
  {
   "cell_type": "code",
   "execution_count": 6,
   "metadata": {},
   "outputs": [
    {
     "name": "stdout",
     "output_type": "stream",
     "text": [
      "1008\n",
      "3413\n",
      "1008\n"
     ]
    }
   ],
   "source": [
    "import random\n",
    "shaffle_ids = random.sample(range(len(tweets_train)), len(tweets_train))\n",
    "tweets=[tweets_train[i] for i in shaffle_ids]+[tw for tw in tweets_valid]+[tw for tw in tweets_test]\n",
    "new_labels_train=[labels_train[i] for i in shaffle_ids]\n",
    "print(len(shaffle_ids))\n",
    "print(len(tweets))\n",
    "print(len(new_labels_train))"
   ]
  },
  {
   "cell_type": "markdown",
   "metadata": {},
   "source": [
    "## 3. Generating the embedding"
   ]
  },
  {
   "cell_type": "markdown",
   "metadata": {},
   "source": [
    "### 3.1. Loading a word2vec model"
   ]
  },
  {
   "cell_type": "markdown",
   "metadata": {},
   "source": [
    "We have used a pre-trained word2vec model in order to analize the results."
   ]
  },
  {
   "cell_type": "code",
   "execution_count": 7,
   "metadata": {},
   "outputs": [],
   "source": [
    "from gensim.models import KeyedVectors\n",
    "import gensim.models.word2vec\n",
    "\n",
    "w2v =  gensim.models.KeyedVectors.load_word2vec_format(\"./word2vec.bin\", binary=True)\n",
    "vocab = w2v.index2word\n"
   ]
  },
  {
   "cell_type": "markdown",
   "metadata": {},
   "source": [
    "### 3.2. Tweets to sequences"
   ]
  },
  {
   "cell_type": "code",
   "execution_count": 8,
   "metadata": {},
   "outputs": [
    {
     "name": "stderr",
     "output_type": "stream",
     "text": [
      "/home/alvaro/anaconda3/lib/python3.6/site-packages/h5py/__init__.py:36: FutureWarning: Conversion of the second argument of issubdtype from `float` to `np.floating` is deprecated. In future, it will be treated as `np.float64 == np.dtype(float).type`.\n",
      "  from ._conv import register_converters as _register_converters\n",
      "Using TensorFlow backend.\n"
     ]
    },
    {
     "data": {
      "text/plain": [
       "12601"
      ]
     },
     "execution_count": 8,
     "metadata": {},
     "output_type": "execute_result"
    }
   ],
   "source": [
    "from keras.preprocessing.text import Tokenizer\n",
    "from sklearn.feature_extraction.text import CountVectorizer\n",
    "counter = CountVectorizer(tokenizer=Tokenizer)\n",
    "tokenizer  = Tokenizer()\n",
    "tokenizer.fit_on_texts(tweets)\n",
    "#seq = tokenizer.texts_to_sequences(tweets)\n",
    "reverse_word_map = dict(map(reversed, tokenizer.word_index.items()))\n",
    "len(reverse_word_map)"
   ]
  },
  {
   "cell_type": "markdown",
   "metadata": {},
   "source": [
    "After recognize the number of words in the dataset we proced to extract their features in the worrd2vec model, creating the embbeding_matrix"
   ]
  },
  {
   "cell_type": "code",
   "execution_count": 9,
   "metadata": {},
   "outputs": [
    {
     "name": "stdout",
     "output_type": "stream",
     "text": [
      "1000 :  969 :  empezado\n",
      "2000 :  1863 :  javi\n",
      "8000 :  5637 :  ayuntamiento\n",
      "11000 :  7325 :  keltoi\n",
      "12000 :  7938 :  sobrado\n",
      "8278\n",
      "(8278, 300)\n"
     ]
    }
   ],
   "source": [
    "embedding_matrix = []\n",
    "dict2={}\n",
    "idx=0\n",
    "for i in range(len(reverse_word_map)):\n",
    "    w=reverse_word_map.get(i)\n",
    "    if w in vocab:\n",
    "        embedding_matrix.append(w2v[w])\n",
    "        dict2[w]=idx\n",
    "        if i%1000==0:\n",
    "            print(i,\": \",idx,\": \",w)\n",
    "        idx+=1\n",
    "print(idx)\n",
    "embedding_matrix=np.asarray(embedding_matrix)\n",
    "print(embedding_matrix.shape)"
   ]
  },
  {
   "cell_type": "markdown",
   "metadata": {},
   "source": [
    "Now we update de tokenizer with new values using only the word presents in the loaded word2vec model"
   ]
  },
  {
   "cell_type": "code",
   "execution_count": 10,
   "metadata": {},
   "outputs": [],
   "source": [
    "X=[]\n",
    "idx=0\n",
    "for tw in tweets:\n",
    "    idx+=1\n",
    "    Xr=[]\n",
    "    for w in tw.split():\n",
    "        if w in dict2:\n",
    "            Xr.append(dict2[w])\n",
    "    X.append(Xr)"
   ]
  },
  {
   "cell_type": "markdown",
   "metadata": {},
   "source": [
    "Once processed we split again the dataset in train, validation and test"
   ]
  },
  {
   "cell_type": "code",
   "execution_count": 11,
   "metadata": {},
   "outputs": [
    {
     "name": "stdout",
     "output_type": "stream",
     "text": [
      "(1008, 30)\n",
      "(506, 30)\n",
      "(1899, 30)\n",
      "(1008, 4)\n",
      "(506, 4)\n"
     ]
    }
   ],
   "source": [
    "from keras.preprocessing.sequence import pad_sequences\n",
    "maxl=30\n",
    "x_train = pad_sequences(X[:len(tweets_train)], maxlen=maxl)\n",
    "x_valid   = pad_sequences(X[len(tweets_train):-len(tweets_test)], maxlen=maxl)\n",
    "x_test   = pad_sequences(X[-len(tweets_test):], maxlen=maxl)\n",
    "y_train=np.asarray(new_labels_train)\n",
    "y_valid=np.asarray(labels_valid)\n",
    "print(x_train.shape)\n",
    "print(x_valid.shape)\n",
    "print(x_test.shape)\n",
    "print(y_train.shape)\n",
    "print(y_valid.shape)"
   ]
  },
  {
   "cell_type": "markdown",
   "metadata": {},
   "source": [
    "## 3. Defining the architecture"
   ]
  },
  {
   "cell_type": "markdown",
   "metadata": {},
   "source": [
    "We add some configurations in order to get compiling"
   ]
  },
  {
   "cell_type": "code",
   "execution_count": 12,
   "metadata": {},
   "outputs": [],
   "source": [
    "import tensorflow as tf\n",
    "from keras import backend as K\n",
    "config = tf.ConfigProto(intra_op_parallelism_threads=4, allow_soft_placement=True, device_count = {'CPU' : 1, 'GPU' : 0})\n",
    "sess = tf.Session(config=config)\n",
    "K.set_session(sess)"
   ]
  },
  {
   "cell_type": "code",
   "execution_count": 14,
   "metadata": {},
   "outputs": [
    {
     "name": "stdout",
     "output_type": "stream",
     "text": [
      "_________________________________________________________________\n",
      "Layer (type)                 Output Shape              Param #   \n",
      "=================================================================\n",
      "input_2 (InputLayer)         (None, 30)                0         \n",
      "_________________________________________________________________\n",
      "embedding_2 (Embedding)      (None, 30, 300)           2483400   \n",
      "_________________________________________________________________\n",
      "lstm_3 (LSTM)                (None, 30, 16)            20288     \n",
      "_________________________________________________________________\n",
      "dropout_3 (Dropout)          (None, 30, 16)            0         \n",
      "_________________________________________________________________\n",
      "lstm_4 (LSTM)                (None, 16)                2112      \n",
      "_________________________________________________________________\n",
      "dropout_4 (Dropout)          (None, 16)                0         \n",
      "_________________________________________________________________\n",
      "dense_2 (Dense)              (None, 4)                 68        \n",
      "=================================================================\n",
      "Total params: 2,505,868\n",
      "Trainable params: 22,468\n",
      "Non-trainable params: 2,483,400\n",
      "_________________________________________________________________\n",
      "None\n"
     ]
    }
   ],
   "source": [
    "from keras.models import Sequential\n",
    "from keras.layers import Dense, Dropout\n",
    "from keras.layers import Flatten\n",
    "from keras.layers.embeddings import Embedding\n",
    "\n",
    "from keras.layers import Input, Dense, concatenate, Activation\n",
    "from keras.models import Model\n",
    "from keras.layers import Conv1D, GlobalMaxPooling1D\n",
    "from keras.layers import Dense, Embedding, LSTM,TimeDistributed,Dropout,Bidirectional,GRU\n",
    "\n",
    "lstm_out=16\n",
    "VOCAB_SIZE=len(dict2)\n",
    "input_layer = Input(shape=(maxl,), dtype='int32')\n",
    "\n",
    "network   = Embedding(VOCAB_SIZE, 300, weights=[embedding_matrix], input_length=30, trainable=False)(input_layer)\n",
    "network=LSTM(lstm_out, return_sequences=True)(network)\n",
    "network=Dropout(0.5)(network)\n",
    "network=LSTM(lstm_out)(network)\n",
    "network=Dropout(0.5)(network)\n",
    "network=Dense(4, activation='softmax')(network)\n",
    "model = Model(inputs=[input_layer], outputs=[network])\n",
    "model.compile(loss='categorical_crossentropy', optimizer='rmsprop', metrics=['accuracy'])\n",
    "\n",
    "\n",
    "print(model.summary())"
   ]
  },
  {
   "cell_type": "markdown",
   "metadata": {},
   "source": [
    "## 4. Training"
   ]
  },
  {
   "cell_type": "code",
   "execution_count": 15,
   "metadata": {},
   "outputs": [],
   "source": [
    "import numpy as np\n",
    "from sklearn.utils.class_weight import compute_class_weight\n",
    "\n",
    "y_integers = np.argmax(y_train, axis=1)\n",
    "class_weights = compute_class_weight('balanced', np.unique(y_integers), y_integers)\n",
    "d_class_weights = dict(enumerate(class_weights))"
   ]
  },
  {
   "cell_type": "code",
   "execution_count": 16,
   "metadata": {},
   "outputs": [
    {
     "name": "stdout",
     "output_type": "stream",
     "text": [
      "Train on 1008 samples, validate on 506 samples\n",
      "Epoch 1/50\n",
      "1008/1008 [==============================] - 2s 2ms/step - loss: 1.3003 - acc: 0.3998 - val_loss: 1.2574 - val_acc: 0.4704\n",
      "Epoch 2/50\n",
      "1008/1008 [==============================] - 1s 964us/step - loss: 1.2660 - acc: 0.4246 - val_loss: 1.2333 - val_acc: 0.4526\n",
      "Epoch 3/50\n",
      "1008/1008 [==============================] - 1s 974us/step - loss: 1.2542 - acc: 0.4425 - val_loss: 1.2266 - val_acc: 0.4684\n",
      "Epoch 4/50\n",
      "1008/1008 [==============================] - 1s 989us/step - loss: 1.2504 - acc: 0.4712 - val_loss: 1.2295 - val_acc: 0.4506\n",
      "Epoch 5/50\n",
      "1008/1008 [==============================] - 1s 963us/step - loss: 1.2126 - acc: 0.4663 - val_loss: 1.2372 - val_acc: 0.4368\n",
      "Epoch 6/50\n",
      "1008/1008 [==============================] - 1s 963us/step - loss: 1.1955 - acc: 0.5000 - val_loss: 1.1874 - val_acc: 0.5099\n",
      "Epoch 7/50\n",
      "1008/1008 [==============================] - 1s 969us/step - loss: 1.1740 - acc: 0.5218 - val_loss: 1.2149 - val_acc: 0.4407\n",
      "Epoch 8/50\n",
      "1008/1008 [==============================] - 1s 952us/step - loss: 1.1573 - acc: 0.5317 - val_loss: 1.1550 - val_acc: 0.5375\n",
      "Epoch 9/50\n",
      "1008/1008 [==============================] - 1s 968us/step - loss: 1.1433 - acc: 0.5397 - val_loss: 1.1858 - val_acc: 0.5198\n",
      "Epoch 10/50\n",
      "1008/1008 [==============================] - 1s 982us/step - loss: 1.1338 - acc: 0.5437 - val_loss: 1.1363 - val_acc: 0.5573\n",
      "Epoch 11/50\n",
      "1008/1008 [==============================] - 1s 975us/step - loss: 1.1180 - acc: 0.5565 - val_loss: 1.1298 - val_acc: 0.5573\n",
      "Epoch 12/50\n",
      "1008/1008 [==============================] - 1s 975us/step - loss: 1.0855 - acc: 0.5704 - val_loss: 1.1950 - val_acc: 0.5237\n",
      "Epoch 13/50\n",
      "1008/1008 [==============================] - 1s 967us/step - loss: 1.0711 - acc: 0.5883 - val_loss: 1.1432 - val_acc: 0.5435\n",
      "Epoch 14/50\n",
      "1008/1008 [==============================] - 1s 957us/step - loss: 1.0577 - acc: 0.5833 - val_loss: 1.1400 - val_acc: 0.5514\n",
      "Epoch 15/50\n",
      "1008/1008 [==============================] - 1s 990us/step - loss: 1.0488 - acc: 0.5903 - val_loss: 1.1250 - val_acc: 0.5415\n",
      "Epoch 16/50\n",
      "1008/1008 [==============================] - 1s 981us/step - loss: 1.0159 - acc: 0.5972 - val_loss: 1.1715 - val_acc: 0.5000\n",
      "Epoch 17/50\n",
      "1008/1008 [==============================] - 1s 974us/step - loss: 1.0102 - acc: 0.6200 - val_loss: 1.1474 - val_acc: 0.5672\n",
      "Epoch 18/50\n",
      "1008/1008 [==============================] - 1s 981us/step - loss: 1.0010 - acc: 0.6240 - val_loss: 1.2163 - val_acc: 0.4842\n",
      "Epoch 19/50\n",
      "1008/1008 [==============================] - 1s 1ms/step - loss: 0.9821 - acc: 0.6349 - val_loss: 1.1661 - val_acc: 0.5138\n",
      "Epoch 20/50\n",
      "1008/1008 [==============================] - 1s 1ms/step - loss: 0.9630 - acc: 0.6429 - val_loss: 1.2038 - val_acc: 0.5138\n",
      "Epoch 21/50\n",
      "1008/1008 [==============================] - 1s 987us/step - loss: 0.9686 - acc: 0.6329 - val_loss: 1.1450 - val_acc: 0.5553\n",
      "Epoch 22/50\n",
      "1008/1008 [==============================] - 1s 983us/step - loss: 0.9191 - acc: 0.6657 - val_loss: 1.1862 - val_acc: 0.5455\n",
      "Epoch 23/50\n",
      "1008/1008 [==============================] - 1s 982us/step - loss: 0.9197 - acc: 0.6548 - val_loss: 1.1670 - val_acc: 0.5494\n",
      "Epoch 24/50\n",
      "1008/1008 [==============================] - 1s 1ms/step - loss: 0.9166 - acc: 0.6677 - val_loss: 1.1809 - val_acc: 0.5415\n",
      "Epoch 25/50\n",
      "1008/1008 [==============================] - 1s 1ms/step - loss: 0.9027 - acc: 0.6667 - val_loss: 1.2037 - val_acc: 0.5415\n",
      "Epoch 26/50\n",
      "1008/1008 [==============================] - 1s 998us/step - loss: 0.8861 - acc: 0.6647 - val_loss: 1.2467 - val_acc: 0.5138\n",
      "Epoch 27/50\n",
      "1008/1008 [==============================] - 1s 1ms/step - loss: 0.8544 - acc: 0.6825 - val_loss: 1.2165 - val_acc: 0.5514\n",
      "Epoch 28/50\n",
      "1008/1008 [==============================] - 1s 988us/step - loss: 0.8417 - acc: 0.6845 - val_loss: 1.2706 - val_acc: 0.5514\n",
      "Epoch 29/50\n",
      "1008/1008 [==============================] - 1s 986us/step - loss: 0.8388 - acc: 0.7004 - val_loss: 1.2378 - val_acc: 0.5138\n",
      "Epoch 30/50\n",
      "1008/1008 [==============================] - 1s 989us/step - loss: 0.8458 - acc: 0.6925 - val_loss: 1.3498 - val_acc: 0.4743\n",
      "Epoch 31/50\n",
      "1008/1008 [==============================] - 1s 988us/step - loss: 0.8093 - acc: 0.7063 - val_loss: 1.3481 - val_acc: 0.4249\n",
      "Epoch 32/50\n",
      "1008/1008 [==============================] - 1s 1ms/step - loss: 0.7932 - acc: 0.7044 - val_loss: 1.3077 - val_acc: 0.4941\n",
      "Epoch 33/50\n",
      "1008/1008 [==============================] - 1s 981us/step - loss: 0.7815 - acc: 0.7192 - val_loss: 1.3244 - val_acc: 0.5356\n",
      "Epoch 34/50\n",
      "1008/1008 [==============================] - 1s 988us/step - loss: 0.7710 - acc: 0.7024 - val_loss: 1.2771 - val_acc: 0.5336\n",
      "Epoch 35/50\n",
      "1008/1008 [==============================] - 1s 1ms/step - loss: 0.7601 - acc: 0.7272 - val_loss: 1.3786 - val_acc: 0.5198\n",
      "Epoch 36/50\n",
      "1008/1008 [==============================] - 1s 976us/step - loss: 0.7560 - acc: 0.7202 - val_loss: 1.3471 - val_acc: 0.5494\n",
      "Epoch 37/50\n",
      "1008/1008 [==============================] - 1s 1ms/step - loss: 0.7529 - acc: 0.7252 - val_loss: 1.4468 - val_acc: 0.4545\n",
      "Epoch 38/50\n",
      "1008/1008 [==============================] - 1s 1ms/step - loss: 0.7218 - acc: 0.7242 - val_loss: 1.3082 - val_acc: 0.5198\n",
      "Epoch 39/50\n",
      "1008/1008 [==============================] - 1s 1ms/step - loss: 0.7243 - acc: 0.7381 - val_loss: 1.3057 - val_acc: 0.5079\n",
      "Epoch 40/50\n",
      "1008/1008 [==============================] - 1s 979us/step - loss: 0.7054 - acc: 0.7411 - val_loss: 1.3477 - val_acc: 0.5119\n",
      "Epoch 41/50\n",
      "1008/1008 [==============================] - 1s 1ms/step - loss: 0.7046 - acc: 0.7391 - val_loss: 1.4074 - val_acc: 0.5237\n",
      "Epoch 42/50\n",
      "1008/1008 [==============================] - 1s 1ms/step - loss: 0.7048 - acc: 0.7450 - val_loss: 1.4627 - val_acc: 0.5356\n",
      "Epoch 43/50\n",
      "1008/1008 [==============================] - 1s 1ms/step - loss: 0.6806 - acc: 0.7500 - val_loss: 1.4067 - val_acc: 0.4960\n",
      "Epoch 44/50\n",
      "1008/1008 [==============================] - 1s 1ms/step - loss: 0.6670 - acc: 0.7599 - val_loss: 1.4665 - val_acc: 0.4980\n",
      "Epoch 45/50\n",
      "1008/1008 [==============================] - 1s 1ms/step - loss: 0.6504 - acc: 0.7569 - val_loss: 1.5478 - val_acc: 0.5079\n",
      "Epoch 46/50\n",
      "1008/1008 [==============================] - 1s 1ms/step - loss: 0.6179 - acc: 0.7748 - val_loss: 1.5761 - val_acc: 0.4941\n",
      "Epoch 47/50\n",
      "1008/1008 [==============================] - 1s 1ms/step - loss: 0.6576 - acc: 0.7569 - val_loss: 1.3993 - val_acc: 0.4684\n",
      "Epoch 48/50\n",
      "1008/1008 [==============================] - 1s 1ms/step - loss: 0.6368 - acc: 0.7629 - val_loss: 1.4896 - val_acc: 0.5040\n",
      "Epoch 49/50\n",
      "1008/1008 [==============================] - 1s 1ms/step - loss: 0.6112 - acc: 0.7857 - val_loss: 1.5540 - val_acc: 0.5356\n",
      "Epoch 50/50\n",
      "1008/1008 [==============================] - 1s 1ms/step - loss: 0.5998 - acc: 0.7698 - val_loss: 1.6034 - val_acc: 0.4763\n"
     ]
    },
    {
     "data": {
      "text/plain": [
       "<keras.callbacks.History at 0x7f9c60085940>"
      ]
     },
     "execution_count": 16,
     "metadata": {},
     "output_type": "execute_result"
    }
   ],
   "source": [
    "model.fit(x_train,y_train, epochs=50,validation_data=(x_valid, y_valid))\n",
    "#model.fit(x_train,y_train, epochs=50,validation_data=(x_valid, y_valid),class_weight=d_class_weights)"
   ]
  },
  {
   "cell_type": "code",
   "execution_count": 17,
   "metadata": {},
   "outputs": [],
   "source": [
    "result2 = model.predict(x_valid,batch_size=1,verbose = 2)"
   ]
  },
  {
   "cell_type": "code",
   "execution_count": 18,
   "metadata": {},
   "outputs": [
    {
     "name": "stdout",
     "output_type": "stream",
     "text": [
      "[[0.371222   0.09135146 0.38573208 0.15169448]\n",
      " [0.08290222 0.6408663  0.21615946 0.06007205]\n",
      " [0.96116763 0.00739596 0.02659651 0.00483987]\n",
      " [0.04106149 0.8199454  0.11502326 0.02396988]\n",
      " [0.05044024 0.15487643 0.09026596 0.7044174 ]]\n"
     ]
    }
   ],
   "source": [
    "print(result2[:5])"
   ]
  },
  {
   "cell_type": "code",
   "execution_count": 19,
   "metadata": {},
   "outputs": [
    {
     "name": "stdout",
     "output_type": "stream",
     "text": [
      "[2 1 0 1 3 1 0 3 0 0]\n"
     ]
    }
   ],
   "source": [
    "result3=np.argmax(result2,axis=1)\n",
    "print(result3[:10])"
   ]
  },
  {
   "cell_type": "code",
   "execution_count": 20,
   "metadata": {},
   "outputs": [
    {
     "name": "stdout",
     "output_type": "stream",
     "text": [
      "[0 0 0 1 1 0 2 3 3 0]\n"
     ]
    }
   ],
   "source": [
    "Y_target=np.argmax(y_valid,axis=1)\n",
    "print(Y_target[:10])"
   ]
  },
  {
   "cell_type": "code",
   "execution_count": 21,
   "metadata": {},
   "outputs": [
    {
     "name": "stdout",
     "output_type": "stream",
     "text": [
      "[[ 76  43  10  27]\n",
      " [ 39 137  15  28]\n",
      " [ 18  32   4  15]\n",
      " [ 15  20   3  24]]\n"
     ]
    }
   ],
   "source": [
    "from sklearn.metrics import confusion_matrix,f1_score\n",
    "Result=confusion_matrix(Y_target, result3)\n",
    "print(Result)"
   ]
  },
  {
   "cell_type": "code",
   "execution_count": 22,
   "metadata": {},
   "outputs": [
    {
     "name": "stdout",
     "output_type": "stream",
     "text": [
      "Precision 0:  0.48717948717948717\n",
      "Precision 1:  0.6255707762557078\n",
      "Precision 2:  0.057971014492753624\n",
      "Precision 3:  0.3870967741935484\n",
      "General precision:  0.4762845849802372\n",
      "F1_score:  0.3736097577862852\n"
     ]
    }
   ],
   "source": [
    "print(\"Precision 0: \",Result[0,0]/(Result[0,0]+Result[0,1]+Result[0,2]+Result[0,3]))\n",
    "print(\"Precision 1: \",Result[1,1]/(Result[1,0]+Result[1,1]+Result[1,2]+Result[1,3]))\n",
    "print(\"Precision 2: \",Result[2,2]/(Result[2,0]+Result[2,1]+Result[2,2]+Result[2,3]))\n",
    "print(\"Precision 3: \",Result[3,3]/(Result[3,0]+Result[3,1]+Result[3,2]+Result[3,3]))\n",
    "print(\"General precision: \",np.trace(Result)/np.sum(Result))\n",
    "print(\"F1_score: \",f1_score(Y_target, result3, average='macro'))"
   ]
  },
  {
   "cell_type": "code",
   "execution_count": null,
   "metadata": {},
   "outputs": [],
   "source": [
    "result2 = model.predict(x_test,batch_size=1,verbose = 2)\n",
    "result3=np.argmax(result2,axis=1)"
   ]
  },
  {
   "cell_type": "code",
   "execution_count": null,
   "metadata": {},
   "outputs": [],
   "source": [
    "import xml.etree.ElementTree as ET\n",
    "\n",
    "file = open(\"test_label_2017.txt\",\"w\") \n",
    "e = ET.parse(DATA_PATH+'Test.xml')\n",
    "root = e.getroot()\n",
    "ID = np.array([tweet.find('tweetid').text for tweet in root.findall('tweet')])\n",
    "idx=0\n",
    "for i in ID:\n",
    "    label=result3[idx]\n",
    "    if label == 0:\n",
    "        file.write(i + \"\\t\" + \"P\" + \"\\n\")\n",
    "    elif label == 1:\n",
    "        file.write(i + \"\\t\" + \"N\" + \"\\n\")\n",
    "    elif label == 2:\n",
    "        file.write(i + \"\\t\" + \"NEU\" + \"\\n\")\n",
    "    elif label == 3:\n",
    "        file.write(i + \"\\t\" + \"NONE\" + \"\\n\")\n",
    "    \n",
    "    idx+=1\n",
    "file.close()\n"
   ]
  },
  {
   "cell_type": "code",
   "execution_count": null,
   "metadata": {},
   "outputs": [],
   "source": [
    "x_test.shape"
   ]
  },
  {
   "cell_type": "code",
   "execution_count": null,
   "metadata": {},
   "outputs": [],
   "source": []
  }
 ],
 "metadata": {
  "kernelspec": {
   "display_name": "Python 3",
   "language": "python",
   "name": "python3"
  },
  "language_info": {
   "codemirror_mode": {
    "name": "ipython",
    "version": 3
   },
   "file_extension": ".py",
   "mimetype": "text/x-python",
   "name": "python",
   "nbconvert_exporter": "python",
   "pygments_lexer": "ipython3",
   "version": "3.6.8"
  }
 },
 "nbformat": 4,
 "nbformat_minor": 2
}
